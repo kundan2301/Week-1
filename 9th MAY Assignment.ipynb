{
 "cells": [
  {
   "cell_type": "code",
   "execution_count": 1,
   "id": "895c1a4f-f8c2-4106-ba54-f7574e8109c3",
   "metadata": {},
   "outputs": [],
   "source": [
    "# Answer of Q1\n",
    "a = \"Kundan from PWSKILLS\""
   ]
  },
  {
   "cell_type": "code",
   "execution_count": 2,
   "id": "d69681bb-7b34-463c-a7dd-5a09ba7e733e",
   "metadata": {},
   "outputs": [
    {
     "data": {
      "text/plain": [
       "'Kundan from PWSKILLS'"
      ]
     },
     "execution_count": 2,
     "metadata": {},
     "output_type": "execute_result"
    }
   ],
   "source": [
    "a"
   ]
  },
  {
   "cell_type": "code",
   "execution_count": 3,
   "id": "e687e880-db46-417e-9a5a-78aa63ca8ab6",
   "metadata": {},
   "outputs": [
    {
     "data": {
      "text/plain": [
       "str"
      ]
     },
     "execution_count": 3,
     "metadata": {},
     "output_type": "execute_result"
    }
   ],
   "source": [
    "type(a)"
   ]
  },
  {
   "cell_type": "code",
   "execution_count": 4,
   "id": "bb25c472-a24e-4c93-b780-4f8c53d08352",
   "metadata": {},
   "outputs": [],
   "source": [
    "b = (6, 7, 8, 9, 10)"
   ]
  },
  {
   "cell_type": "code",
   "execution_count": 5,
   "id": "c16d0f5f-95de-4cb2-9c40-108e0eecb913",
   "metadata": {},
   "outputs": [
    {
     "data": {
      "text/plain": [
       "(6, 7, 8, 9, 10)"
      ]
     },
     "execution_count": 5,
     "metadata": {},
     "output_type": "execute_result"
    }
   ],
   "source": [
    "b"
   ]
  },
  {
   "cell_type": "code",
   "execution_count": 6,
   "id": "60127235-6014-4372-bbd8-1b9e79d0d942",
   "metadata": {},
   "outputs": [
    {
     "data": {
      "text/plain": [
       "tuple"
      ]
     },
     "execution_count": 6,
     "metadata": {},
     "output_type": "execute_result"
    }
   ],
   "source": [
    "type(b)"
   ]
  },
  {
   "cell_type": "code",
   "execution_count": 7,
   "id": "4c167158-3ff9-4489-9fe2-d1041736bbd6",
   "metadata": {},
   "outputs": [],
   "source": [
    "c = [\"Kundan\" , (1, 2, 3, 4,)]"
   ]
  },
  {
   "cell_type": "code",
   "execution_count": 8,
   "id": "ed86f4b1-4afd-4264-88d0-88e92afa597b",
   "metadata": {},
   "outputs": [
    {
     "data": {
      "text/plain": [
       "list"
      ]
     },
     "execution_count": 8,
     "metadata": {},
     "output_type": "execute_result"
    }
   ],
   "source": [
    "type(c)"
   ]
  },
  {
   "cell_type": "code",
   "execution_count": 9,
   "id": "d9b25ef3-f6ec-4476-94f2-7d2af781aea5",
   "metadata": {},
   "outputs": [],
   "source": [
    "d = 67.457878"
   ]
  },
  {
   "cell_type": "code",
   "execution_count": 10,
   "id": "b510a7d9-96fc-4284-ab83-d66fa0a2d811",
   "metadata": {},
   "outputs": [
    {
     "data": {
      "text/plain": [
       "67.457878"
      ]
     },
     "execution_count": 10,
     "metadata": {},
     "output_type": "execute_result"
    }
   ],
   "source": [
    "d"
   ]
  },
  {
   "cell_type": "code",
   "execution_count": 11,
   "id": "7a858883-2c30-410e-8bfc-247650119356",
   "metadata": {},
   "outputs": [
    {
     "data": {
      "text/plain": [
       "float"
      ]
     },
     "execution_count": 11,
     "metadata": {},
     "output_type": "execute_result"
    }
   ],
   "source": [
    "type(d)"
   ]
  },
  {
   "cell_type": "code",
   "execution_count": 15,
   "id": "5a824d56-f0e9-4d7a-af2d-1953ed50346a",
   "metadata": {},
   "outputs": [
    {
     "name": "stdout",
     "output_type": "stream",
     "text": [
      "<class 'str'>\n",
      "<class 'tuple'>\n",
      "<class 'list'>\n",
      "<class 'float'>\n"
     ]
    }
   ],
   "source": [
    "a = \"Kundan from PWSKILLS\"\n",
    "b = (6, 7, 8, 9, 10)\n",
    "c = [\"Kundan\" , (1, 2, 3, 4,)]\n",
    "d = 67.457878\n",
    "    \n",
    "print(type(a))\n",
    "print(type(b))\n",
    "print(type(c))\n",
    "print(type(d))"
   ]
  },
  {
   "cell_type": "code",
   "execution_count": 16,
   "id": "8003556a-177f-4b8a-8a85-f17dafc02110",
   "metadata": {},
   "outputs": [
    {
     "name": "stdout",
     "output_type": "stream",
     "text": [
      "<class 'str'>\n",
      "<class 'str'>\n",
      "<class 'list'>\n",
      "<class 'int'>\n"
     ]
    }
   ],
   "source": [
    "# Answer of Q2\n",
    "var1 = 'Jharkhand'\n",
    "var2 = '[ Jharkhand , PWskills , Dhanbad]'\n",
    "var3 = ['Jharkhand', '(45, 67, 89,)', '89.3456']\n",
    "var4 = 23012022\n",
    "\n",
    "print(type(var1))\n",
    "print(type(var2))\n",
    "print(type(var3))\n",
    "print(type(var4))"
   ]
  },
  {
   "cell_type": "code",
   "execution_count": 17,
   "id": "cfed7129-f54a-4484-9dd6-5dce45fd6d86",
   "metadata": {},
   "outputs": [
    {
     "name": "stdout",
     "output_type": "stream",
     "text": [
      "0.7666666666666667\n"
     ]
    }
   ],
   "source": [
    "# answer of Q3\n",
    "a = 23\n",
    "b = 30\n",
    "print(a/b)"
   ]
  },
  {
   "cell_type": "code",
   "execution_count": 19,
   "id": "341727d3-4158-4c03-8469-fca118160f8e",
   "metadata": {},
   "outputs": [
    {
     "name": "stdout",
     "output_type": "stream",
     "text": [
      "23\n"
     ]
    }
   ],
   "source": [
    "a = 23\n",
    "b = 30\n",
    "print(a%b)"
   ]
  },
  {
   "cell_type": "code",
   "execution_count": 20,
   "id": "a982714e-e65b-4218-bcec-1941bf78480d",
   "metadata": {},
   "outputs": [
    {
     "name": "stdout",
     "output_type": "stream",
     "text": [
      "0\n"
     ]
    }
   ],
   "source": [
    "a = 23\n",
    "b = 30\n",
    "print(a//b)"
   ]
  },
  {
   "cell_type": "code",
   "execution_count": 21,
   "id": "9f79f27a-96c4-458a-9f35-6890b5e37abf",
   "metadata": {},
   "outputs": [
    {
     "name": "stdout",
     "output_type": "stream",
     "text": [
      "71094348791151363024389554286420996798449\n"
     ]
    }
   ],
   "source": [
    "a = 23\n",
    "b = 30\n",
    "print(a**b)"
   ]
  },
  {
   "cell_type": "code",
   "execution_count": 22,
   "id": "ad27ae61-9e9d-406e-8560-d12e96655023",
   "metadata": {},
   "outputs": [
    {
     "name": "stdout",
     "output_type": "stream",
     "text": [
      "The element is 2301 and its data type is <class 'int'>\n",
      "The element is PWskills and its data type is <class 'str'>\n",
      "The element is False and its data type is <class 'bool'>\n",
      "The element is 30.09 and its data type is <class 'float'>\n",
      "The element is [23, 19, 30] and its data type is <class 'list'>\n",
      "The element is {'state': 'Jharkhand', 'age': 1968} and its data type is <class 'dict'>\n",
      "The element is None and its data type is <class 'NoneType'>\n",
      "The element is 100580 and its data type is <class 'int'>\n",
      "The element is (1+2j) and its data type is <class 'complex'>\n",
      "The element is Aarav and its data type is <class 'str'>\n"
     ]
    }
   ],
   "source": [
    "# Answer of Q4\n",
    "# a list of length 10\n",
    "list_of_data = [2301, \"PWskills\", False, 30.09, [23, 19, 30], {\"state\": \"Jharkhand\", \"age\": 1968}, None, 100580, complex(1, 2), \"Aarav\"]\n",
    "\n",
    "# Print the element and its data type using a for loop\n",
    "for item in list_of_data:\n",
    "    print(f\"The element is {item} and its data type is {type(item)}\")\n"
   ]
  },
  {
   "cell_type": "code",
   "execution_count": null,
   "id": "5c41c268-5858-47ac-9872-0870cb958bc1",
   "metadata": {},
   "outputs": [],
   "source": []
  }
 ],
 "metadata": {
  "kernelspec": {
   "display_name": "Python 3 (ipykernel)",
   "language": "python",
   "name": "python3"
  },
  "language_info": {
   "codemirror_mode": {
    "name": "ipython",
    "version": 3
   },
   "file_extension": ".py",
   "mimetype": "text/x-python",
   "name": "python",
   "nbconvert_exporter": "python",
   "pygments_lexer": "ipython3",
   "version": "3.10.8"
  }
 },
 "nbformat": 4,
 "nbformat_minor": 5
}
